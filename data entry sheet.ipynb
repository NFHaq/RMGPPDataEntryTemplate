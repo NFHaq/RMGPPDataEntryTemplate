{
 "cells": [
  {
   "cell_type": "code",
   "execution_count": null,
   "metadata": {
    "collapsed": true
   },
   "outputs": [],
   "source": []
  },
  {
   "cell_type": "code",
   "execution_count": 1,
   "metadata": {
    "collapsed": true
   },
   "outputs": [],
   "source": [
    "import pandas as pd\n",
    "import os\n",
    "from IPython.core.display import HTML\n",
    "import re\n",
    "from pandas import DataFrame\n",
    "import numpy as np\n",
    "from numpy import nan as NA\n",
    "from IPython.core.display import HTML\n",
    "from IPython.core.display import Image \n",
    "import matplotlib.pylab as pylab\n",
    "from itertools import chain\n",
    "import datetime, itertools, os, collections, re\n",
    "import math\n",
    "import time\n",
    "from time import mktime\n",
    "from datetime import datetime, timedelta\n",
    "import ExcelExtraction\n",
    "from time import mktime"
   ]
  },
  {
   "cell_type": "code",
   "execution_count": null,
   "metadata": {
    "collapsed": true
   },
   "outputs": [],
   "source": []
  },
  {
   "cell_type": "code",
   "execution_count": null,
   "metadata": {
    "collapsed": true
   },
   "outputs": [],
   "source": []
  },
  {
   "cell_type": "code",
   "execution_count": 2,
   "metadata": {
    "collapsed": true
   },
   "outputs": [],
   "source": [
    "all_dfs = ExcelExtraction.extract_all_files(r\"../source\")"
   ]
  },
  {
   "cell_type": "code",
   "execution_count": null,
   "metadata": {
    "collapsed": true
   },
   "outputs": [],
   "source": []
  },
  {
   "cell_type": "code",
   "execution_count": 3,
   "metadata": {},
   "outputs": [
    {
     "data": {
      "text/plain": [
       "12"
      ]
     },
     "execution_count": 3,
     "metadata": {},
     "output_type": "execute_result"
    }
   ],
   "source": [
    "len(all_dfs)"
   ]
  },
  {
   "cell_type": "code",
   "execution_count": null,
   "metadata": {
    "collapsed": true
   },
   "outputs": [],
   "source": []
  },
  {
   "cell_type": "code",
   "execution_count": 4,
   "metadata": {
    "collapsed": true
   },
   "outputs": [],
   "source": [
    "dfs_dic = dict(enumerate(all_dfs))"
   ]
  },
  {
   "cell_type": "code",
   "execution_count": 5,
   "metadata": {},
   "outputs": [
    {
     "data": {
      "text/html": [
       "<div>\n",
       "<style>\n",
       "    .dataframe thead tr:only-child th {\n",
       "        text-align: right;\n",
       "    }\n",
       "\n",
       "    .dataframe thead th {\n",
       "        text-align: left;\n",
       "    }\n",
       "\n",
       "    .dataframe tbody tr th {\n",
       "        vertical-align: top;\n",
       "    }\n",
       "</style>\n",
       "<table border=\"1\" class=\"dataframe\">\n",
       "  <thead>\n",
       "    <tr style=\"text-align: right;\">\n",
       "      <th></th>\n",
       "      <th>fact_code</th>\n",
       "      <th>contact_type</th>\n",
       "      <th>contact_name</th>\n",
       "      <th>designation</th>\n",
       "      <th>contact_number</th>\n",
       "      <th>email</th>\n",
       "      <th>notes</th>\n",
       "      <th>path</th>\n",
       "      <th>file</th>\n",
       "      <th>sheet</th>\n",
       "    </tr>\n",
       "  </thead>\n",
       "  <tbody>\n",
       "    <tr>\n",
       "      <th>0</th>\n",
       "      <td>4011</td>\n",
       "      <td>NaN</td>\n",
       "      <td>NaN</td>\n",
       "      <td>NaN</td>\n",
       "      <td>NaN</td>\n",
       "      <td>NaN</td>\n",
       "      <td>NaN</td>\n",
       "      <td>../source</td>\n",
       "      <td>Data_Report_4011.xlsx</td>\n",
       "      <td>cover</td>\n",
       "    </tr>\n",
       "  </tbody>\n",
       "</table>\n",
       "</div>"
      ],
      "text/plain": [
       "   fact_code  contact_type  contact_name  designation  contact_number  email  \\\n",
       "0       4011           NaN           NaN          NaN             NaN    NaN   \n",
       "\n",
       "   notes       path                   file  sheet  \n",
       "0    NaN  ../source  Data_Report_4011.xlsx  cover  "
      ]
     },
     "execution_count": 5,
     "metadata": {},
     "output_type": "execute_result"
    }
   ],
   "source": [
    "dfs_dic[0]"
   ]
  },
  {
   "cell_type": "code",
   "execution_count": null,
   "metadata": {
    "collapsed": true
   },
   "outputs": [],
   "source": []
  },
  {
   "cell_type": "code",
   "execution_count": 6,
   "metadata": {
    "collapsed": true
   },
   "outputs": [],
   "source": [
    "unique_sheets = []\n",
    "for i,df in dfs_dic.items():\n",
    "    unique_sheets.extend(df.sheet.unique())"
   ]
  },
  {
   "cell_type": "code",
   "execution_count": null,
   "metadata": {
    "collapsed": true
   },
   "outputs": [],
   "source": []
  },
  {
   "cell_type": "code",
   "execution_count": 7,
   "metadata": {},
   "outputs": [
    {
     "data": {
      "text/plain": [
       "{'cover',\n",
       " 'data_input',\n",
       " 'list_reports_sheet',\n",
       " 'received_sheet',\n",
       " 'request_sheet',\n",
       " 'visit_log'}"
      ]
     },
     "execution_count": 7,
     "metadata": {},
     "output_type": "execute_result"
    }
   ],
   "source": [
    "set(unique_sheets)"
   ]
  },
  {
   "cell_type": "code",
   "execution_count": null,
   "metadata": {
    "collapsed": true
   },
   "outputs": [],
   "source": []
  },
  {
   "cell_type": "code",
   "execution_count": 8,
   "metadata": {
    "collapsed": true
   },
   "outputs": [],
   "source": [
    "req_dfs = {}\n",
    "for i,df in dfs_dic.items():\n",
    "    if df.sheet.unique()[0] in [ 'received_sheet']:\n",
    "        req_dfs[len(req_dfs)] = df.copy()"
   ]
  },
  {
   "cell_type": "code",
   "execution_count": null,
   "metadata": {
    "collapsed": true
   },
   "outputs": [],
   "source": []
  },
  {
   "cell_type": "code",
   "execution_count": 9,
   "metadata": {},
   "outputs": [
    {
     "data": {
      "text/plain": [
       "2"
      ]
     },
     "execution_count": 9,
     "metadata": {},
     "output_type": "execute_result"
    }
   ],
   "source": [
    "len(req_dfs)"
   ]
  },
  {
   "cell_type": "code",
   "execution_count": null,
   "metadata": {
    "collapsed": true
   },
   "outputs": [],
   "source": []
  },
  {
   "cell_type": "code",
   "execution_count": 10,
   "metadata": {
    "collapsed": true
   },
   "outputs": [],
   "source": [
    "dfs_concat = pd.concat(req_dfs, ignore_index=True)"
   ]
  },
  {
   "cell_type": "code",
   "execution_count": null,
   "metadata": {
    "collapsed": true
   },
   "outputs": [],
   "source": []
  },
  {
   "cell_type": "code",
   "execution_count": 11,
   "metadata": {
    "collapsed": true
   },
   "outputs": [],
   "source": [
    "dfs_concat['factory_code'] = pd.Series([ elem.split('.')[0].split('_')[-1] for elem in dfs_concat.file] ,index=dfs_concat.index)"
   ]
  },
  {
   "cell_type": "code",
   "execution_count": null,
   "metadata": {
    "collapsed": true
   },
   "outputs": [],
   "source": []
  },
  {
   "cell_type": "code",
   "execution_count": 12,
   "metadata": {},
   "outputs": [
    {
     "data": {
      "text/plain": [
       "'4011'"
      ]
     },
     "execution_count": 12,
     "metadata": {},
     "output_type": "execute_result"
    }
   ],
   "source": [
    "dfs_concat.loc[1].factory_code"
   ]
  },
  {
   "cell_type": "code",
   "execution_count": 13,
   "metadata": {},
   "outputs": [
    {
     "data": {
      "text/html": [
       "<div>\n",
       "<style>\n",
       "    .dataframe thead tr:only-child th {\n",
       "        text-align: right;\n",
       "    }\n",
       "\n",
       "    .dataframe thead th {\n",
       "        text-align: left;\n",
       "    }\n",
       "\n",
       "    .dataframe tbody tr th {\n",
       "        vertical-align: top;\n",
       "    }\n",
       "</style>\n",
       "<table border=\"1\" class=\"dataframe\">\n",
       "  <thead>\n",
       "    <tr style=\"text-align: right;\">\n",
       "      <th></th>\n",
       "      <th>report_name</th>\n",
       "      <th>format</th>\n",
       "      <th>project_phase</th>\n",
       "      <th>start_time</th>\n",
       "      <th>end_time</th>\n",
       "      <th>notes</th>\n",
       "      <th>path</th>\n",
       "      <th>file</th>\n",
       "      <th>sheet</th>\n",
       "      <th>factory_code</th>\n",
       "    </tr>\n",
       "  </thead>\n",
       "  <tbody>\n",
       "    <tr>\n",
       "      <th>0</th>\n",
       "      <td>A</td>\n",
       "      <td>excel</td>\n",
       "      <td>base_line</td>\n",
       "      <td>1 Feb 2017</td>\n",
       "      <td>28 Jun 2017</td>\n",
       "      <td>NaN</td>\n",
       "      <td>../source</td>\n",
       "      <td>Data_Report_4011.xlsx</td>\n",
       "      <td>received_sheet</td>\n",
       "      <td>4011</td>\n",
       "    </tr>\n",
       "    <tr>\n",
       "      <th>1</th>\n",
       "      <td>B</td>\n",
       "      <td>handwritten copy</td>\n",
       "      <td>base_line</td>\n",
       "      <td>2 Feb 2017</td>\n",
       "      <td>30 May 2017</td>\n",
       "      <td>NaN</td>\n",
       "      <td>../source</td>\n",
       "      <td>Data_Report_4011.xlsx</td>\n",
       "      <td>received_sheet</td>\n",
       "      <td>4011</td>\n",
       "    </tr>\n",
       "    <tr>\n",
       "      <th>2</th>\n",
       "      <td>C</td>\n",
       "      <td>scanned copy</td>\n",
       "      <td>base_line</td>\n",
       "      <td>2 Feb 2017</td>\n",
       "      <td>30 May 2017</td>\n",
       "      <td>NaN</td>\n",
       "      <td>../source</td>\n",
       "      <td>Data_Report_4011.xlsx</td>\n",
       "      <td>received_sheet</td>\n",
       "      <td>4011</td>\n",
       "    </tr>\n",
       "    <tr>\n",
       "      <th>3</th>\n",
       "      <td>A</td>\n",
       "      <td>excel</td>\n",
       "      <td>base_line</td>\n",
       "      <td>1 Feb 2017</td>\n",
       "      <td>28 Jun 2017</td>\n",
       "      <td>NaN</td>\n",
       "      <td>../source</td>\n",
       "      <td>Data_Report_4012.xlsx</td>\n",
       "      <td>received_sheet</td>\n",
       "      <td>4012</td>\n",
       "    </tr>\n",
       "    <tr>\n",
       "      <th>4</th>\n",
       "      <td>B</td>\n",
       "      <td>pdf</td>\n",
       "      <td>base_line</td>\n",
       "      <td>2 Feb 2017</td>\n",
       "      <td>30 May 2017</td>\n",
       "      <td>NaN</td>\n",
       "      <td>../source</td>\n",
       "      <td>Data_Report_4012.xlsx</td>\n",
       "      <td>received_sheet</td>\n",
       "      <td>4012</td>\n",
       "    </tr>\n",
       "    <tr>\n",
       "      <th>5</th>\n",
       "      <td>C</td>\n",
       "      <td>handwritten copy</td>\n",
       "      <td>base_line</td>\n",
       "      <td>2 Feb 2017</td>\n",
       "      <td>30 May 2017</td>\n",
       "      <td>NaN</td>\n",
       "      <td>../source</td>\n",
       "      <td>Data_Report_4012.xlsx</td>\n",
       "      <td>received_sheet</td>\n",
       "      <td>4012</td>\n",
       "    </tr>\n",
       "  </tbody>\n",
       "</table>\n",
       "</div>"
      ],
      "text/plain": [
       "  report_name            format project_phase  start_time     end_time  notes  \\\n",
       "0           A             excel     base_line  1 Feb 2017  28 Jun 2017    NaN   \n",
       "1           B  handwritten copy     base_line  2 Feb 2017  30 May 2017    NaN   \n",
       "2           C      scanned copy     base_line  2 Feb 2017  30 May 2017    NaN   \n",
       "3           A             excel     base_line  1 Feb 2017  28 Jun 2017    NaN   \n",
       "4           B               pdf     base_line  2 Feb 2017  30 May 2017    NaN   \n",
       "5           C  handwritten copy     base_line  2 Feb 2017  30 May 2017    NaN   \n",
       "\n",
       "        path                   file           sheet factory_code  \n",
       "0  ../source  Data_Report_4011.xlsx  received_sheet         4011  \n",
       "1  ../source  Data_Report_4011.xlsx  received_sheet         4011  \n",
       "2  ../source  Data_Report_4011.xlsx  received_sheet         4011  \n",
       "3  ../source  Data_Report_4012.xlsx  received_sheet         4012  \n",
       "4  ../source  Data_Report_4012.xlsx  received_sheet         4012  \n",
       "5  ../source  Data_Report_4012.xlsx  received_sheet         4012  "
      ]
     },
     "execution_count": 13,
     "metadata": {},
     "output_type": "execute_result"
    }
   ],
   "source": [
    "dfs_concat"
   ]
  },
  {
   "cell_type": "code",
   "execution_count": 14,
   "metadata": {},
   "outputs": [
    {
     "name": "stdout",
     "output_type": "stream",
     "text": [
      "0\n",
      "1\n",
      "2\n"
     ]
    }
   ],
   "source": [
    "for i in range(3):\n",
    "    print(i)"
   ]
  },
  {
   "cell_type": "code",
   "execution_count": null,
   "metadata": {
    "collapsed": true
   },
   "outputs": [],
   "source": []
  },
  {
   "cell_type": "code",
   "execution_count": 15,
   "metadata": {},
   "outputs": [],
   "source": [
    "new_dfs = pd.DataFrame(columns={'sl_no','factory_code','report_name','project_phase','start_time','end_time','entry_type'})\n",
    "for ind in dfs_concat.index:\n",
    "    s_ = dfs_concat.loc[ind][[ 'factory_code','report_name','project_phase','start_time','end_time']]\n",
    "    for i in range(3):\n",
    "        s_['sl_no'] = len(new_dfs)+1\n",
    "        if i==0:\n",
    "            s_['entry_type'] = \"1st entry\"\n",
    "        if i==1:\n",
    "            s_['entry_type'] = \"2nd entry\"\n",
    "        if i==2:\n",
    "            s_['entry_type'] = \"recon\"\n",
    "            \n",
    "        new_dfs.loc[len(new_dfs)] = s_    \n",
    "        "
   ]
  },
  {
   "cell_type": "code",
   "execution_count": null,
   "metadata": {
    "collapsed": true
   },
   "outputs": [],
   "source": []
  },
  {
   "cell_type": "code",
   "execution_count": 16,
   "metadata": {
    "collapsed": true
   },
   "outputs": [],
   "source": [
    "for col in ['status','given_date','given_time','dma_name','workings','received_date','received_time','total_working_mins',\n",
    "           'dma_code']:\n",
    "    new_dfs[col] = np.nan"
   ]
  },
  {
   "cell_type": "code",
   "execution_count": null,
   "metadata": {
    "collapsed": true
   },
   "outputs": [],
   "source": []
  },
  {
   "cell_type": "code",
   "execution_count": 17,
   "metadata": {},
   "outputs": [
    {
     "data": {
      "text/plain": [
       "Index(['project_phase', 'sl_no', 'end_time', 'entry_type', 'factory_code',\n",
       "       'report_name', 'start_time', 'status', 'given_date', 'given_time',\n",
       "       'dma_name', 'workings', 'received_date', 'received_time',\n",
       "       'total_working_mins', 'dma_code'],\n",
       "      dtype='object')"
      ]
     },
     "execution_count": 17,
     "metadata": {},
     "output_type": "execute_result"
    }
   ],
   "source": [
    "new_dfs.columns"
   ]
  },
  {
   "cell_type": "code",
   "execution_count": null,
   "metadata": {
    "collapsed": true
   },
   "outputs": [],
   "source": []
  },
  {
   "cell_type": "code",
   "execution_count": 18,
   "metadata": {
    "collapsed": true
   },
   "outputs": [],
   "source": [
    "new_dfs = new_dfs[[   'sl_no','factory_code','report_name', 'project_phase',\n",
    "                    'start_time',  'end_time',\n",
    "                    'status', 'given_date','given_time',  \n",
    "                   'dma_name','entry_type','workings', \n",
    "                   'received_date', 'received_time',\n",
    "                    'total_working_mins', 'dma_code'\n",
    "   \n",
    "      \n",
    "       \n",
    "      ]]"
   ]
  },
  {
   "cell_type": "code",
   "execution_count": null,
   "metadata": {
    "collapsed": true
   },
   "outputs": [],
   "source": []
  },
  {
   "cell_type": "code",
   "execution_count": 19,
   "metadata": {},
   "outputs": [],
   "source": [
    "frames = {'spread_sheet': new_dfs}\n",
    "file_name = 'data entry spread sheet_new'+'.xlsx'\n",
    "writer = pd.ExcelWriter(file_name, engine='xlsxwriter')\n",
    " \n",
    "for sheet, frame in  frames.items(): \n",
    "    frame.to_excel(writer, sheet_name = sheet)\n",
    "writer.save()             "
   ]
  },
  {
   "cell_type": "code",
   "execution_count": null,
   "metadata": {
    "collapsed": true
   },
   "outputs": [],
   "source": []
  },
  {
   "cell_type": "code",
   "execution_count": 20,
   "metadata": {},
   "outputs": [
    {
     "data": {
      "text/html": [
       "<div>\n",
       "<style>\n",
       "    .dataframe thead tr:only-child th {\n",
       "        text-align: right;\n",
       "    }\n",
       "\n",
       "    .dataframe thead th {\n",
       "        text-align: left;\n",
       "    }\n",
       "\n",
       "    .dataframe tbody tr th {\n",
       "        vertical-align: top;\n",
       "    }\n",
       "</style>\n",
       "<table border=\"1\" class=\"dataframe\">\n",
       "  <thead>\n",
       "    <tr style=\"text-align: right;\">\n",
       "      <th></th>\n",
       "      <th>sl_no</th>\n",
       "      <th>factory_code</th>\n",
       "      <th>report_name</th>\n",
       "      <th>project_phase</th>\n",
       "      <th>start_time</th>\n",
       "      <th>end_time</th>\n",
       "      <th>status</th>\n",
       "      <th>given_date</th>\n",
       "      <th>given_time</th>\n",
       "      <th>dma_name</th>\n",
       "      <th>entry_type</th>\n",
       "      <th>workings</th>\n",
       "      <th>received_date</th>\n",
       "      <th>received_time</th>\n",
       "      <th>total_working_mins</th>\n",
       "      <th>dma_code</th>\n",
       "    </tr>\n",
       "  </thead>\n",
       "  <tbody>\n",
       "    <tr>\n",
       "      <th>0</th>\n",
       "      <td>1</td>\n",
       "      <td>4011</td>\n",
       "      <td>A</td>\n",
       "      <td>base_line</td>\n",
       "      <td>1 Feb 2017</td>\n",
       "      <td>28 Jun 2017</td>\n",
       "      <td>NaN</td>\n",
       "      <td>NaN</td>\n",
       "      <td>NaN</td>\n",
       "      <td>NaN</td>\n",
       "      <td>1st entry</td>\n",
       "      <td>NaN</td>\n",
       "      <td>NaN</td>\n",
       "      <td>NaN</td>\n",
       "      <td>NaN</td>\n",
       "      <td>NaN</td>\n",
       "    </tr>\n",
       "    <tr>\n",
       "      <th>1</th>\n",
       "      <td>2</td>\n",
       "      <td>4011</td>\n",
       "      <td>A</td>\n",
       "      <td>base_line</td>\n",
       "      <td>1 Feb 2017</td>\n",
       "      <td>28 Jun 2017</td>\n",
       "      <td>NaN</td>\n",
       "      <td>NaN</td>\n",
       "      <td>NaN</td>\n",
       "      <td>NaN</td>\n",
       "      <td>2nd entry</td>\n",
       "      <td>NaN</td>\n",
       "      <td>NaN</td>\n",
       "      <td>NaN</td>\n",
       "      <td>NaN</td>\n",
       "      <td>NaN</td>\n",
       "    </tr>\n",
       "    <tr>\n",
       "      <th>2</th>\n",
       "      <td>3</td>\n",
       "      <td>4011</td>\n",
       "      <td>A</td>\n",
       "      <td>base_line</td>\n",
       "      <td>1 Feb 2017</td>\n",
       "      <td>28 Jun 2017</td>\n",
       "      <td>NaN</td>\n",
       "      <td>NaN</td>\n",
       "      <td>NaN</td>\n",
       "      <td>NaN</td>\n",
       "      <td>recon</td>\n",
       "      <td>NaN</td>\n",
       "      <td>NaN</td>\n",
       "      <td>NaN</td>\n",
       "      <td>NaN</td>\n",
       "      <td>NaN</td>\n",
       "    </tr>\n",
       "    <tr>\n",
       "      <th>3</th>\n",
       "      <td>4</td>\n",
       "      <td>4011</td>\n",
       "      <td>B</td>\n",
       "      <td>base_line</td>\n",
       "      <td>2 Feb 2017</td>\n",
       "      <td>30 May 2017</td>\n",
       "      <td>NaN</td>\n",
       "      <td>NaN</td>\n",
       "      <td>NaN</td>\n",
       "      <td>NaN</td>\n",
       "      <td>1st entry</td>\n",
       "      <td>NaN</td>\n",
       "      <td>NaN</td>\n",
       "      <td>NaN</td>\n",
       "      <td>NaN</td>\n",
       "      <td>NaN</td>\n",
       "    </tr>\n",
       "    <tr>\n",
       "      <th>4</th>\n",
       "      <td>5</td>\n",
       "      <td>4011</td>\n",
       "      <td>B</td>\n",
       "      <td>base_line</td>\n",
       "      <td>2 Feb 2017</td>\n",
       "      <td>30 May 2017</td>\n",
       "      <td>NaN</td>\n",
       "      <td>NaN</td>\n",
       "      <td>NaN</td>\n",
       "      <td>NaN</td>\n",
       "      <td>2nd entry</td>\n",
       "      <td>NaN</td>\n",
       "      <td>NaN</td>\n",
       "      <td>NaN</td>\n",
       "      <td>NaN</td>\n",
       "      <td>NaN</td>\n",
       "    </tr>\n",
       "    <tr>\n",
       "      <th>5</th>\n",
       "      <td>6</td>\n",
       "      <td>4011</td>\n",
       "      <td>B</td>\n",
       "      <td>base_line</td>\n",
       "      <td>2 Feb 2017</td>\n",
       "      <td>30 May 2017</td>\n",
       "      <td>NaN</td>\n",
       "      <td>NaN</td>\n",
       "      <td>NaN</td>\n",
       "      <td>NaN</td>\n",
       "      <td>recon</td>\n",
       "      <td>NaN</td>\n",
       "      <td>NaN</td>\n",
       "      <td>NaN</td>\n",
       "      <td>NaN</td>\n",
       "      <td>NaN</td>\n",
       "    </tr>\n",
       "    <tr>\n",
       "      <th>6</th>\n",
       "      <td>7</td>\n",
       "      <td>4011</td>\n",
       "      <td>C</td>\n",
       "      <td>base_line</td>\n",
       "      <td>2 Feb 2017</td>\n",
       "      <td>30 May 2017</td>\n",
       "      <td>NaN</td>\n",
       "      <td>NaN</td>\n",
       "      <td>NaN</td>\n",
       "      <td>NaN</td>\n",
       "      <td>1st entry</td>\n",
       "      <td>NaN</td>\n",
       "      <td>NaN</td>\n",
       "      <td>NaN</td>\n",
       "      <td>NaN</td>\n",
       "      <td>NaN</td>\n",
       "    </tr>\n",
       "    <tr>\n",
       "      <th>7</th>\n",
       "      <td>8</td>\n",
       "      <td>4011</td>\n",
       "      <td>C</td>\n",
       "      <td>base_line</td>\n",
       "      <td>2 Feb 2017</td>\n",
       "      <td>30 May 2017</td>\n",
       "      <td>NaN</td>\n",
       "      <td>NaN</td>\n",
       "      <td>NaN</td>\n",
       "      <td>NaN</td>\n",
       "      <td>2nd entry</td>\n",
       "      <td>NaN</td>\n",
       "      <td>NaN</td>\n",
       "      <td>NaN</td>\n",
       "      <td>NaN</td>\n",
       "      <td>NaN</td>\n",
       "    </tr>\n",
       "    <tr>\n",
       "      <th>8</th>\n",
       "      <td>9</td>\n",
       "      <td>4011</td>\n",
       "      <td>C</td>\n",
       "      <td>base_line</td>\n",
       "      <td>2 Feb 2017</td>\n",
       "      <td>30 May 2017</td>\n",
       "      <td>NaN</td>\n",
       "      <td>NaN</td>\n",
       "      <td>NaN</td>\n",
       "      <td>NaN</td>\n",
       "      <td>recon</td>\n",
       "      <td>NaN</td>\n",
       "      <td>NaN</td>\n",
       "      <td>NaN</td>\n",
       "      <td>NaN</td>\n",
       "      <td>NaN</td>\n",
       "    </tr>\n",
       "    <tr>\n",
       "      <th>9</th>\n",
       "      <td>10</td>\n",
       "      <td>4012</td>\n",
       "      <td>A</td>\n",
       "      <td>base_line</td>\n",
       "      <td>1 Feb 2017</td>\n",
       "      <td>28 Jun 2017</td>\n",
       "      <td>NaN</td>\n",
       "      <td>NaN</td>\n",
       "      <td>NaN</td>\n",
       "      <td>NaN</td>\n",
       "      <td>1st entry</td>\n",
       "      <td>NaN</td>\n",
       "      <td>NaN</td>\n",
       "      <td>NaN</td>\n",
       "      <td>NaN</td>\n",
       "      <td>NaN</td>\n",
       "    </tr>\n",
       "    <tr>\n",
       "      <th>10</th>\n",
       "      <td>11</td>\n",
       "      <td>4012</td>\n",
       "      <td>A</td>\n",
       "      <td>base_line</td>\n",
       "      <td>1 Feb 2017</td>\n",
       "      <td>28 Jun 2017</td>\n",
       "      <td>NaN</td>\n",
       "      <td>NaN</td>\n",
       "      <td>NaN</td>\n",
       "      <td>NaN</td>\n",
       "      <td>2nd entry</td>\n",
       "      <td>NaN</td>\n",
       "      <td>NaN</td>\n",
       "      <td>NaN</td>\n",
       "      <td>NaN</td>\n",
       "      <td>NaN</td>\n",
       "    </tr>\n",
       "    <tr>\n",
       "      <th>11</th>\n",
       "      <td>12</td>\n",
       "      <td>4012</td>\n",
       "      <td>A</td>\n",
       "      <td>base_line</td>\n",
       "      <td>1 Feb 2017</td>\n",
       "      <td>28 Jun 2017</td>\n",
       "      <td>NaN</td>\n",
       "      <td>NaN</td>\n",
       "      <td>NaN</td>\n",
       "      <td>NaN</td>\n",
       "      <td>recon</td>\n",
       "      <td>NaN</td>\n",
       "      <td>NaN</td>\n",
       "      <td>NaN</td>\n",
       "      <td>NaN</td>\n",
       "      <td>NaN</td>\n",
       "    </tr>\n",
       "    <tr>\n",
       "      <th>12</th>\n",
       "      <td>13</td>\n",
       "      <td>4012</td>\n",
       "      <td>B</td>\n",
       "      <td>base_line</td>\n",
       "      <td>2 Feb 2017</td>\n",
       "      <td>30 May 2017</td>\n",
       "      <td>NaN</td>\n",
       "      <td>NaN</td>\n",
       "      <td>NaN</td>\n",
       "      <td>NaN</td>\n",
       "      <td>1st entry</td>\n",
       "      <td>NaN</td>\n",
       "      <td>NaN</td>\n",
       "      <td>NaN</td>\n",
       "      <td>NaN</td>\n",
       "      <td>NaN</td>\n",
       "    </tr>\n",
       "    <tr>\n",
       "      <th>13</th>\n",
       "      <td>14</td>\n",
       "      <td>4012</td>\n",
       "      <td>B</td>\n",
       "      <td>base_line</td>\n",
       "      <td>2 Feb 2017</td>\n",
       "      <td>30 May 2017</td>\n",
       "      <td>NaN</td>\n",
       "      <td>NaN</td>\n",
       "      <td>NaN</td>\n",
       "      <td>NaN</td>\n",
       "      <td>2nd entry</td>\n",
       "      <td>NaN</td>\n",
       "      <td>NaN</td>\n",
       "      <td>NaN</td>\n",
       "      <td>NaN</td>\n",
       "      <td>NaN</td>\n",
       "    </tr>\n",
       "    <tr>\n",
       "      <th>14</th>\n",
       "      <td>15</td>\n",
       "      <td>4012</td>\n",
       "      <td>B</td>\n",
       "      <td>base_line</td>\n",
       "      <td>2 Feb 2017</td>\n",
       "      <td>30 May 2017</td>\n",
       "      <td>NaN</td>\n",
       "      <td>NaN</td>\n",
       "      <td>NaN</td>\n",
       "      <td>NaN</td>\n",
       "      <td>recon</td>\n",
       "      <td>NaN</td>\n",
       "      <td>NaN</td>\n",
       "      <td>NaN</td>\n",
       "      <td>NaN</td>\n",
       "      <td>NaN</td>\n",
       "    </tr>\n",
       "    <tr>\n",
       "      <th>15</th>\n",
       "      <td>16</td>\n",
       "      <td>4012</td>\n",
       "      <td>C</td>\n",
       "      <td>base_line</td>\n",
       "      <td>2 Feb 2017</td>\n",
       "      <td>30 May 2017</td>\n",
       "      <td>NaN</td>\n",
       "      <td>NaN</td>\n",
       "      <td>NaN</td>\n",
       "      <td>NaN</td>\n",
       "      <td>1st entry</td>\n",
       "      <td>NaN</td>\n",
       "      <td>NaN</td>\n",
       "      <td>NaN</td>\n",
       "      <td>NaN</td>\n",
       "      <td>NaN</td>\n",
       "    </tr>\n",
       "    <tr>\n",
       "      <th>16</th>\n",
       "      <td>17</td>\n",
       "      <td>4012</td>\n",
       "      <td>C</td>\n",
       "      <td>base_line</td>\n",
       "      <td>2 Feb 2017</td>\n",
       "      <td>30 May 2017</td>\n",
       "      <td>NaN</td>\n",
       "      <td>NaN</td>\n",
       "      <td>NaN</td>\n",
       "      <td>NaN</td>\n",
       "      <td>2nd entry</td>\n",
       "      <td>NaN</td>\n",
       "      <td>NaN</td>\n",
       "      <td>NaN</td>\n",
       "      <td>NaN</td>\n",
       "      <td>NaN</td>\n",
       "    </tr>\n",
       "    <tr>\n",
       "      <th>17</th>\n",
       "      <td>18</td>\n",
       "      <td>4012</td>\n",
       "      <td>C</td>\n",
       "      <td>base_line</td>\n",
       "      <td>2 Feb 2017</td>\n",
       "      <td>30 May 2017</td>\n",
       "      <td>NaN</td>\n",
       "      <td>NaN</td>\n",
       "      <td>NaN</td>\n",
       "      <td>NaN</td>\n",
       "      <td>recon</td>\n",
       "      <td>NaN</td>\n",
       "      <td>NaN</td>\n",
       "      <td>NaN</td>\n",
       "      <td>NaN</td>\n",
       "      <td>NaN</td>\n",
       "    </tr>\n",
       "  </tbody>\n",
       "</table>\n",
       "</div>"
      ],
      "text/plain": [
       "   sl_no factory_code report_name project_phase  start_time     end_time  \\\n",
       "0      1         4011           A     base_line  1 Feb 2017  28 Jun 2017   \n",
       "1      2         4011           A     base_line  1 Feb 2017  28 Jun 2017   \n",
       "2      3         4011           A     base_line  1 Feb 2017  28 Jun 2017   \n",
       "3      4         4011           B     base_line  2 Feb 2017  30 May 2017   \n",
       "4      5         4011           B     base_line  2 Feb 2017  30 May 2017   \n",
       "5      6         4011           B     base_line  2 Feb 2017  30 May 2017   \n",
       "6      7         4011           C     base_line  2 Feb 2017  30 May 2017   \n",
       "7      8         4011           C     base_line  2 Feb 2017  30 May 2017   \n",
       "8      9         4011           C     base_line  2 Feb 2017  30 May 2017   \n",
       "9     10         4012           A     base_line  1 Feb 2017  28 Jun 2017   \n",
       "10    11         4012           A     base_line  1 Feb 2017  28 Jun 2017   \n",
       "11    12         4012           A     base_line  1 Feb 2017  28 Jun 2017   \n",
       "12    13         4012           B     base_line  2 Feb 2017  30 May 2017   \n",
       "13    14         4012           B     base_line  2 Feb 2017  30 May 2017   \n",
       "14    15         4012           B     base_line  2 Feb 2017  30 May 2017   \n",
       "15    16         4012           C     base_line  2 Feb 2017  30 May 2017   \n",
       "16    17         4012           C     base_line  2 Feb 2017  30 May 2017   \n",
       "17    18         4012           C     base_line  2 Feb 2017  30 May 2017   \n",
       "\n",
       "    status  given_date  given_time  dma_name entry_type  workings  \\\n",
       "0      NaN         NaN         NaN       NaN  1st entry       NaN   \n",
       "1      NaN         NaN         NaN       NaN  2nd entry       NaN   \n",
       "2      NaN         NaN         NaN       NaN      recon       NaN   \n",
       "3      NaN         NaN         NaN       NaN  1st entry       NaN   \n",
       "4      NaN         NaN         NaN       NaN  2nd entry       NaN   \n",
       "5      NaN         NaN         NaN       NaN      recon       NaN   \n",
       "6      NaN         NaN         NaN       NaN  1st entry       NaN   \n",
       "7      NaN         NaN         NaN       NaN  2nd entry       NaN   \n",
       "8      NaN         NaN         NaN       NaN      recon       NaN   \n",
       "9      NaN         NaN         NaN       NaN  1st entry       NaN   \n",
       "10     NaN         NaN         NaN       NaN  2nd entry       NaN   \n",
       "11     NaN         NaN         NaN       NaN      recon       NaN   \n",
       "12     NaN         NaN         NaN       NaN  1st entry       NaN   \n",
       "13     NaN         NaN         NaN       NaN  2nd entry       NaN   \n",
       "14     NaN         NaN         NaN       NaN      recon       NaN   \n",
       "15     NaN         NaN         NaN       NaN  1st entry       NaN   \n",
       "16     NaN         NaN         NaN       NaN  2nd entry       NaN   \n",
       "17     NaN         NaN         NaN       NaN      recon       NaN   \n",
       "\n",
       "    received_date  received_time  total_working_mins  dma_code  \n",
       "0             NaN            NaN                 NaN       NaN  \n",
       "1             NaN            NaN                 NaN       NaN  \n",
       "2             NaN            NaN                 NaN       NaN  \n",
       "3             NaN            NaN                 NaN       NaN  \n",
       "4             NaN            NaN                 NaN       NaN  \n",
       "5             NaN            NaN                 NaN       NaN  \n",
       "6             NaN            NaN                 NaN       NaN  \n",
       "7             NaN            NaN                 NaN       NaN  \n",
       "8             NaN            NaN                 NaN       NaN  \n",
       "9             NaN            NaN                 NaN       NaN  \n",
       "10            NaN            NaN                 NaN       NaN  \n",
       "11            NaN            NaN                 NaN       NaN  \n",
       "12            NaN            NaN                 NaN       NaN  \n",
       "13            NaN            NaN                 NaN       NaN  \n",
       "14            NaN            NaN                 NaN       NaN  \n",
       "15            NaN            NaN                 NaN       NaN  \n",
       "16            NaN            NaN                 NaN       NaN  \n",
       "17            NaN            NaN                 NaN       NaN  "
      ]
     },
     "execution_count": 20,
     "metadata": {},
     "output_type": "execute_result"
    }
   ],
   "source": [
    "new_dfs"
   ]
  },
  {
   "cell_type": "code",
   "execution_count": null,
   "metadata": {
    "collapsed": true
   },
   "outputs": [],
   "source": []
  },
  {
   "cell_type": "code",
   "execution_count": 39,
   "metadata": {},
   "outputs": [
    {
     "data": {
      "text/plain": [
       "'4011'"
      ]
     },
     "execution_count": 39,
     "metadata": {},
     "output_type": "execute_result"
    }
   ],
   "source": [
    "new_dfs.loc[0][1]"
   ]
  },
  {
   "cell_type": "code",
   "execution_count": 41,
   "metadata": {},
   "outputs": [
    {
     "data": {
      "text/plain": [
       "'sl_no'"
      ]
     },
     "execution_count": 41,
     "metadata": {},
     "output_type": "execute_result"
    }
   ],
   "source": [
    "new_dfs.columns[0]"
   ]
  },
  {
   "cell_type": "code",
   "execution_count": null,
   "metadata": {
    "collapsed": true
   },
   "outputs": [],
   "source": []
  },
  {
   "cell_type": "code",
   "execution_count": 28,
   "metadata": {},
   "outputs": [
    {
     "ename": "AttributeError",
     "evalue": "'Worksheet' object has no attribute 'append'",
     "output_type": "error",
     "traceback": [
      "\u001b[1;31m---------------------------------------------------------------------------\u001b[0m",
      "\u001b[1;31mAttributeError\u001b[0m                            Traceback (most recent call last)",
      "\u001b[1;32m<ipython-input-28-45efa1785d12>\u001b[0m in \u001b[0;36m<module>\u001b[1;34m()\u001b[0m\n\u001b[0;32m      4\u001b[0m \u001b[0mworksheet\u001b[0m \u001b[1;33m=\u001b[0m \u001b[0mworkbook\u001b[0m\u001b[1;33m.\u001b[0m\u001b[0madd_worksheet\u001b[0m\u001b[1;33m(\u001b[0m\u001b[1;33m)\u001b[0m\u001b[1;33m\u001b[0m\u001b[0m\n\u001b[0;32m      5\u001b[0m \u001b[1;33m\u001b[0m\u001b[0m\n\u001b[1;32m----> 6\u001b[1;33m \u001b[0mworksheet\u001b[0m\u001b[1;33m.\u001b[0m\u001b[0mappend\u001b[0m\u001b[1;33m(\u001b[0m\u001b[1;36m0\u001b[0m\u001b[1;33m,\u001b[0m \u001b[1;36m21\u001b[0m\u001b[1;33m,\u001b[0m \u001b[1;34m'Hello Excel'\u001b[0m\u001b[1;33m)\u001b[0m\u001b[1;33m\u001b[0m\u001b[0m\n\u001b[0m\u001b[0;32m      7\u001b[0m \u001b[1;33m\u001b[0m\u001b[0m\n\u001b[0;32m      8\u001b[0m \u001b[0mworkbook\u001b[0m\u001b[1;33m.\u001b[0m\u001b[0mclose\u001b[0m\u001b[1;33m(\u001b[0m\u001b[1;33m)\u001b[0m\u001b[1;33m\u001b[0m\u001b[0m\n",
      "\u001b[1;31mAttributeError\u001b[0m: 'Worksheet' object has no attribute 'append'"
     ]
    }
   ],
   "source": [
    "import xlsxwriter\n",
    "\n",
    "workbook  = xlsxwriter.Workbook(r\"../data entry spread sheet_new1.xlsx\")\n",
    "worksheet = workbook.add_worksheet()\n",
    "\n",
    "worksheet.write(0, 21, 'Hello Excel')\n",
    "\n",
    "workbook.close()"
   ]
  },
  {
   "cell_type": "code",
   "execution_count": null,
   "metadata": {
    "collapsed": true
   },
   "outputs": [],
   "source": []
  },
  {
   "cell_type": "code",
   "execution_count": null,
   "metadata": {
    "collapsed": true
   },
   "outputs": [],
   "source": []
  },
  {
   "cell_type": "code",
   "execution_count": null,
   "metadata": {
    "collapsed": true
   },
   "outputs": [],
   "source": []
  },
  {
   "cell_type": "code",
   "execution_count": null,
   "metadata": {
    "collapsed": true
   },
   "outputs": [],
   "source": []
  },
  {
   "cell_type": "code",
   "execution_count": 32,
   "metadata": {
    "collapsed": true
   },
   "outputs": [],
   "source": [
    "import xlsxwriter\n",
    "\n",
    "workbook = xlsxwriter.Workbook(r\"../data entry spread sheet_new1.xlsx\")\n",
    "\n",
    "worksheet = workbook.add_worksheet()"
   ]
  },
  {
   "cell_type": "code",
   "execution_count": 33,
   "metadata": {
    "collapsed": true
   },
   "outputs": [],
   "source": [
    "worksheet.data_validation('A1', {'validate': 'list','source': ['complete', 'inprogress', 'not complete']})"
   ]
  },
  {
   "cell_type": "code",
   "execution_count": 34,
   "metadata": {},
   "outputs": [],
   "source": [
    "workbook.close()"
   ]
  },
  {
   "cell_type": "code",
   "execution_count": null,
   "metadata": {
    "collapsed": true
   },
   "outputs": [],
   "source": []
  },
  {
   "cell_type": "code",
   "execution_count": null,
   "metadata": {
    "collapsed": true
   },
   "outputs": [],
   "source": []
  },
  {
   "cell_type": "code",
   "execution_count": 25,
   "metadata": {},
   "outputs": [
    {
     "ename": "AttributeError",
     "evalue": "'Worksheet' object has no attribute 'to_excel'",
     "output_type": "error",
     "traceback": [
      "\u001b[1;31m---------------------------------------------------------------------------\u001b[0m",
      "\u001b[1;31mAttributeError\u001b[0m                            Traceback (most recent call last)",
      "\u001b[1;32m<ipython-input-25-cbec2b61fd8b>\u001b[0m in \u001b[0;36m<module>\u001b[1;34m()\u001b[0m\n\u001b[0;32m      1\u001b[0m \u001b[0mfile_name\u001b[0m \u001b[1;33m=\u001b[0m\u001b[1;34m'../style_sheet'\u001b[0m\u001b[1;33m+\u001b[0m\u001b[1;34m'.xlsx'\u001b[0m\u001b[1;33m\u001b[0m\u001b[0m\n\u001b[0;32m      2\u001b[0m \u001b[0mwriter\u001b[0m \u001b[1;33m=\u001b[0m \u001b[0mpd\u001b[0m\u001b[1;33m.\u001b[0m\u001b[0mExcelWriter\u001b[0m\u001b[1;33m(\u001b[0m\u001b[0mfile_name\u001b[0m\u001b[1;33m,\u001b[0m \u001b[0mengine\u001b[0m\u001b[1;33m=\u001b[0m\u001b[1;34m'xlsxwriter'\u001b[0m\u001b[1;33m)\u001b[0m\u001b[1;33m\u001b[0m\u001b[0m\n\u001b[1;32m----> 3\u001b[1;33m \u001b[0mworksheet\u001b[0m\u001b[1;33m.\u001b[0m\u001b[0mto_excel\u001b[0m\u001b[1;33m(\u001b[0m\u001b[0mwriter\u001b[0m\u001b[1;33m,\u001b[0m \u001b[0msheet_name\u001b[0m \u001b[1;33m=\u001b[0m \u001b[1;34m'new_sheet'\u001b[0m\u001b[1;33m)\u001b[0m\u001b[1;33m\u001b[0m\u001b[0m\n\u001b[0m\u001b[0;32m      4\u001b[0m \u001b[0mwriter\u001b[0m\u001b[1;33m.\u001b[0m\u001b[0msave\u001b[0m\u001b[1;33m(\u001b[0m\u001b[1;33m)\u001b[0m\u001b[1;33m\u001b[0m\u001b[0m\n",
      "\u001b[1;31mAttributeError\u001b[0m: 'Worksheet' object has no attribute 'to_excel'"
     ]
    }
   ],
   "source": [
    "file_name ='../style_sheet'+'.xlsx'\n",
    "writer = pd.ExcelWriter(file_name, engine='xlsxwriter')\n",
    "worksheet.to_excel(writer, sheet_name = 'new_sheet')\n",
    "writer.save()"
   ]
  },
  {
   "cell_type": "code",
   "execution_count": null,
   "metadata": {
    "collapsed": true
   },
   "outputs": [],
   "source": []
  },
  {
   "cell_type": "code",
   "execution_count": null,
   "metadata": {
    "collapsed": true
   },
   "outputs": [],
   "source": []
  },
  {
   "cell_type": "code",
   "execution_count": null,
   "metadata": {
    "collapsed": true
   },
   "outputs": [],
   "source": []
  },
  {
   "cell_type": "code",
   "execution_count": null,
   "metadata": {
    "collapsed": true
   },
   "outputs": [],
   "source": []
  },
  {
   "cell_type": "code",
   "execution_count": null,
   "metadata": {
    "collapsed": true
   },
   "outputs": [],
   "source": []
  },
  {
   "cell_type": "code",
   "execution_count": null,
   "metadata": {
    "collapsed": true
   },
   "outputs": [],
   "source": []
  }
 ],
 "metadata": {
  "kernelspec": {
   "display_name": "Python 3",
   "language": "python",
   "name": "python3"
  },
  "language_info": {
   "codemirror_mode": {
    "name": "ipython",
    "version": 3
   },
   "file_extension": ".py",
   "mimetype": "text/x-python",
   "name": "python",
   "nbconvert_exporter": "python",
   "pygments_lexer": "ipython3",
   "version": "3.6.1"
  }
 },
 "nbformat": 4,
 "nbformat_minor": 2
}
